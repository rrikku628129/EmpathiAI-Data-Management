{
 "cells": [
  {
   "cell_type": "code",
   "execution_count": 13,
   "id": "77122fde-1921-47f3-a037-16820856503c",
   "metadata": {},
   "outputs": [],
   "source": [
    "import os\n",
    "import re\n",
    "import json\n",
    "import warnings\n",
    "from typing import List, Tuple, Optional\n",
    "\n",
    "import numpy as np\n",
    "import pandas as pd\n",
    "from sklearn.model_selection import train_test_split\n",
    "\n",
    "\n",
    "try:\n",
    "    import regex as re2\n",
    "except Exception:\n",
    "    re2 = re\n",
    "\n",
    "\n",
    "try:\n",
    "    from ftfy import fix_text\n",
    "except Exception:\n",
    "    def fix_text(x): return x\n",
    "\n",
    "try:\n",
    "    from unidecode import unidecode\n",
    "except Exception:\n",
    "    def unidecode(x): return x\n",
    "\n",
    "\n",
    "PRESIDIO_AVAILABLE = False\n",
    "try:\n",
    "    from presidio_analyzer import AnalyzerEngine\n",
    "    from presidio_anonymizer import AnonymizerEngine\n",
    "    PRESIDIO_AVAILABLE = True\n",
    "except Exception:\n",
    "    PRESIDIO_AVAILABLE = False\n",
    "\n",
    "\n",
    "CSV_PATH = \"mental_health_counseling_conversations_rated.csv\"  \n",
    "OUTPUT_DIR = \"data/processed\"\n",
    "SEED = 42\n",
    "REMOVE_EMOJI = True\n",
    "LOWERCASE = True\n",
    "USE_PRESIDIO = False  \n",
    "\n",
    "os.makedirs(OUTPUT_DIR, exist_ok=True)\n",
    "np.random.seed(SEED)\n"
   ]
  },
  {
   "cell_type": "code",
   "execution_count": 14,
   "id": "2fe8b49d-0a0f-4eb6-b13e-e81739b9bfcd",
   "metadata": {},
   "outputs": [
    {
     "name": "stdout",
     "output_type": "stream",
     "text": [
      "(3512, 26)\n"
     ]
    },
    {
     "data": {
      "text/plain": [
       "['index',\n",
       " 'context',\n",
       " 'response',\n",
       " 'empathy_llama-3-2-1b',\n",
       " 'empathy_llama-3-2-3b',\n",
       " 'empathy_llama-3-1-8b',\n",
       " 'empathy_qwen-2-5-7b',\n",
       " 'appropriateness_llama-3-2-1b',\n",
       " 'appropriateness_llama-3-2-3b',\n",
       " 'appropriateness_llama-3-1-8b',\n",
       " 'appropriateness_qwen-2-5-7b',\n",
       " 'relevance_llama-3-2-1b',\n",
       " 'relevance_llama-3-2-3b',\n",
       " 'relevance_llama-3-1-8b',\n",
       " 'relevance_qwen-2-5-7b',\n",
       " 'explanation_llama-3-2-1b',\n",
       " 'explanation_llama-3-2-3b',\n",
       " 'explanation_llama-3-1-8b',\n",
       " 'explanation_qwen-2-5-7b',\n",
       " 'generated_text_llama-3-2-1b',\n",
       " 'generated_text_llama-3-2-3b',\n",
       " 'generated_text_llama-3-1-8b',\n",
       " 'generated_text_qwen-2-5-7b',\n",
       " 'avg_empathy_score',\n",
       " 'avg_appropriateness_score',\n",
       " 'avg_relevance_score']"
      ]
     },
     "execution_count": 14,
     "metadata": {},
     "output_type": "execute_result"
    }
   ],
   "source": [
    "df = pd.read_csv(CSV_PATH)\n",
    "print(df.shape)\n",
    "df.head()\n",
    "df.columns.tolist()"
   ]
  },
  {
   "cell_type": "code",
   "execution_count": 15,
   "id": "0a54d6b8-da52-4b90-829d-669570e8d426",
   "metadata": {},
   "outputs": [],
   "source": [
    "id_col = \"index\"\n",
    "\n",
    "\n",
    "BASE_TEXT_COLS = [\"context\", \"response\"]\n",
    "\n",
    "\n",
    "RATING_COLS = [\"avg_empathy_score\", \"avg_appropriateness_score\", \"avg_relevance_score\"]\n",
    "\n",
    "MODEL_SCORE_COLS = [\n",
    "    'empathy_llama-3-2-1b','empathy_llama-3-2-3b','empathy_llama-3-1-8b','empathy_qwen-2-5-7b',\n",
    "    'appropriateness_llama-3-2-1b','appropriateness_llama-3-2-3b','appropriateness_llama-3-1-8b','appropriateness_qwen-2-5-7b',\n",
    "    'relevance_llama-3-2-1b','relevance_llama-3-2-3b','relevance_llama-3-1-8b','relevance_qwen-2-5-7b'\n",
    "]\n",
    "EXPLANATION_COLS = [c for c in df.columns if c.startswith(\"explanation_\")]\n",
    "GENERATED_COLS = [c for c in df.columns if c.startswith(\"generated_text_\")]\n",
    "\n",
    "MODEL_SCORE_COLS = [c for c in MODEL_SCORE_COLS if c in df.columns]\n",
    "EXPLANATION_COLS = [c for c in EXPLANATION_COLS if c in df.columns]\n",
    "GENERATED_COLS = [c for c in GENERATED_COLS if c in df.columns]\n",
    "\n",
    "\n",
    "for rc in RATING_COLS + MODEL_SCORE_COLS:\n",
    "    if rc in df.columns:\n",
    "        df[rc] = pd.to_numeric(df[rc], errors=\"coerce\")"
   ]
  },
  {
   "cell_type": "code",
   "execution_count": 16,
   "id": "6cffa30e-b614-40bf-a2f0-2530842d95ac",
   "metadata": {},
   "outputs": [
    {
     "name": "stdout",
     "output_type": "stream",
     "text": [
      "Filtered 1483 rows; remain = 2029\n"
     ]
    },
    {
     "data": {
      "text/html": [
       "<div>\n",
       "<style scoped>\n",
       "    .dataframe tbody tr th:only-of-type {\n",
       "        vertical-align: middle;\n",
       "    }\n",
       "\n",
       "    .dataframe tbody tr th {\n",
       "        vertical-align: top;\n",
       "    }\n",
       "\n",
       "    .dataframe thead th {\n",
       "        text-align: right;\n",
       "    }\n",
       "</style>\n",
       "<table border=\"1\" class=\"dataframe\">\n",
       "  <thead>\n",
       "    <tr style=\"text-align: right;\">\n",
       "      <th></th>\n",
       "      <th>text</th>\n",
       "      <th>text_len</th>\n",
       "      <th>avg_empathy_score</th>\n",
       "      <th>avg_appropriateness_score</th>\n",
       "      <th>avg_relevance_score</th>\n",
       "    </tr>\n",
       "  </thead>\n",
       "  <tbody>\n",
       "    <tr>\n",
       "      <th>0</th>\n",
       "      <td>i'm going through some things with my feelings...</td>\n",
       "      <td>224</td>\n",
       "      <td>2.5</td>\n",
       "      <td>2.75</td>\n",
       "      <td>4.25</td>\n",
       "    </tr>\n",
       "    <tr>\n",
       "      <th>1</th>\n",
       "      <td>i'm going through some things with my feelings...</td>\n",
       "      <td>429</td>\n",
       "      <td>4.5</td>\n",
       "      <td>5.00</td>\n",
       "      <td>4.75</td>\n",
       "    </tr>\n",
       "    <tr>\n",
       "      <th>2</th>\n",
       "      <td>i'm going through some things with my feelings...</td>\n",
       "      <td>121</td>\n",
       "      <td>3.0</td>\n",
       "      <td>4.25</td>\n",
       "      <td>3.25</td>\n",
       "    </tr>\n",
       "  </tbody>\n",
       "</table>\n",
       "</div>"
      ],
      "text/plain": [
       "                                                text  text_len  \\\n",
       "0  i'm going through some things with my feelings...       224   \n",
       "1  i'm going through some things with my feelings...       429   \n",
       "2  i'm going through some things with my feelings...       121   \n",
       "\n",
       "   avg_empathy_score  avg_appropriateness_score  avg_relevance_score  \n",
       "0                2.5                       2.75                 4.25  \n",
       "1                4.5                       5.00                 4.75  \n",
       "2                3.0                       4.25                 3.25  "
      ]
     },
     "execution_count": 16,
     "metadata": {},
     "output_type": "execute_result"
    }
   ],
   "source": [
    "def build_text_from_context_response(row):\n",
    "    parts = []\n",
    "    for c in BASE_TEXT_COLS:\n",
    "        if c in row and isinstance(row[c], str) and row[c].strip():\n",
    "            parts.append(row[c].strip())\n",
    "    return \" [CTX] \".join(parts) if parts else \"\"\n",
    "\n",
    "df[\"text\"] = df.apply(build_text_from_context_response, axis=1)\n",
    "\n",
    "\n",
    "df[\"text\"] = df[\"text\"].map(lambda x: basic_sanitize(x, remove_emoji=REMOVE_EMOJI, lowercase=LOWERCASE))\n",
    "\n",
    "\n",
    "df[\"text_len\"] = df[\"text\"].astype(str).str.split().apply(len)\n",
    "before = len(df)\n",
    "df = df[df[\"text\"].str.strip() != \"\"]\n",
    "df = df[df[\"text_len\"] >= 2]\n",
    "df = df.drop_duplicates(subset=[\"text\"]).reset_index(drop=True)\n",
    "print(f\"Filtered {before - len(df)} rows; remain = {len(df)}\")\n",
    "df[[\"text\",\"text_len\"] + RATING_COLS].head(3)"
   ]
  },
  {
   "cell_type": "code",
   "execution_count": 17,
   "id": "2bd2dac0-7ec0-4d4b-966d-6dc48d9637f6",
   "metadata": {},
   "outputs": [
    {
     "data": {
      "text/html": [
       "<div>\n",
       "<style scoped>\n",
       "    .dataframe tbody tr th:only-of-type {\n",
       "        vertical-align: middle;\n",
       "    }\n",
       "\n",
       "    .dataframe tbody tr th {\n",
       "        vertical-align: top;\n",
       "    }\n",
       "\n",
       "    .dataframe thead th {\n",
       "        text-align: right;\n",
       "    }\n",
       "</style>\n",
       "<table border=\"1\" class=\"dataframe\">\n",
       "  <thead>\n",
       "    <tr style=\"text-align: right;\">\n",
       "      <th></th>\n",
       "      <th>index</th>\n",
       "      <th>text</th>\n",
       "      <th>text_len</th>\n",
       "      <th>avg_empathy_score</th>\n",
       "      <th>avg_appropriateness_score</th>\n",
       "      <th>avg_relevance_score</th>\n",
       "    </tr>\n",
       "  </thead>\n",
       "  <tbody>\n",
       "    <tr>\n",
       "      <th>0</th>\n",
       "      <td>0</td>\n",
       "      <td>i'm going through some things with my feelings...</td>\n",
       "      <td>224</td>\n",
       "      <td>2.50</td>\n",
       "      <td>2.75</td>\n",
       "      <td>4.25</td>\n",
       "    </tr>\n",
       "    <tr>\n",
       "      <th>1</th>\n",
       "      <td>1</td>\n",
       "      <td>i'm going through some things with my feelings...</td>\n",
       "      <td>429</td>\n",
       "      <td>4.50</td>\n",
       "      <td>5.00</td>\n",
       "      <td>4.75</td>\n",
       "    </tr>\n",
       "    <tr>\n",
       "      <th>2</th>\n",
       "      <td>2</td>\n",
       "      <td>i'm going through some things with my feelings...</td>\n",
       "      <td>121</td>\n",
       "      <td>3.00</td>\n",
       "      <td>4.25</td>\n",
       "      <td>3.25</td>\n",
       "    </tr>\n",
       "    <tr>\n",
       "      <th>3</th>\n",
       "      <td>3</td>\n",
       "      <td>i'm going through some things with my feelings...</td>\n",
       "      <td>198</td>\n",
       "      <td>3.00</td>\n",
       "      <td>4.50</td>\n",
       "      <td>4.75</td>\n",
       "    </tr>\n",
       "    <tr>\n",
       "      <th>4</th>\n",
       "      <td>4</td>\n",
       "      <td>i'm going through some things with my feelings...</td>\n",
       "      <td>124</td>\n",
       "      <td>3.25</td>\n",
       "      <td>4.50</td>\n",
       "      <td>3.75</td>\n",
       "    </tr>\n",
       "  </tbody>\n",
       "</table>\n",
       "</div>"
      ],
      "text/plain": [
       "   index                                               text  text_len  \\\n",
       "0      0  i'm going through some things with my feelings...       224   \n",
       "1      1  i'm going through some things with my feelings...       429   \n",
       "2      2  i'm going through some things with my feelings...       121   \n",
       "3      3  i'm going through some things with my feelings...       198   \n",
       "4      4  i'm going through some things with my feelings...       124   \n",
       "\n",
       "   avg_empathy_score  avg_appropriateness_score  avg_relevance_score  \n",
       "0               2.50                       2.75                 4.25  \n",
       "1               4.50                       5.00                 4.75  \n",
       "2               3.00                       4.25                 3.25  \n",
       "3               3.00                       4.50                 4.75  \n",
       "4               3.25                       4.50                 3.75  "
      ]
     },
     "execution_count": 17,
     "metadata": {},
     "output_type": "execute_result"
    }
   ],
   "source": [
    "keep_cols = [id_col] if id_col in df.columns else []\n",
    "keep_cols += [\"text\", \"text_len\"]\n",
    "keep_cols += [c for c in RATING_COLS if c in df.columns]\n",
    "\n",
    "\n",
    "keep_cols = list(dict.fromkeys([c for c in keep_cols if c in df.columns]))\n",
    "cleaned = df[keep_cols].copy()\n",
    "cleaned.head()"
   ]
  },
  {
   "cell_type": "code",
   "execution_count": 18,
   "id": "c277c63c-115e-4e01-acba-f7d3806b7e7d",
   "metadata": {},
   "outputs": [
    {
     "data": {
      "text/plain": [
       "emp_bin\n",
       "0    850\n",
       "2    672\n",
       "1    507\n",
       "Name: count, dtype: int64"
      ]
     },
     "execution_count": 18,
     "metadata": {},
     "output_type": "execute_result"
    }
   ],
   "source": [
    "BIN_TARGET = \"avg_empathy_score\"\n",
    "BIN_COL = None\n",
    "if BIN_TARGET in cleaned.columns:\n",
    "\n",
    "    cleaned[\"emp_bin\"] = pd.qcut(cleaned[BIN_TARGET].astype(float), q=3, labels=[0,1,2], duplicates=\"drop\")\n",
    "    BIN_COL = \"emp_bin\"\n",
    "\n",
    "cleaned[BIN_COL].value_counts(dropna=False) if BIN_COL else \"No binning\"\n"
   ]
  },
  {
   "cell_type": "code",
   "execution_count": 19,
   "id": "bcadb853-ae4e-47f2-9a14-bfa1ddff84ee",
   "metadata": {},
   "outputs": [
    {
     "name": "stdout",
     "output_type": "stream",
     "text": [
      "sizes: 1623 203 203\n"
     ]
    },
    {
     "data": {
      "text/plain": [
       "(     index                                               text  text_len  \\\n",
       " 30      30  i have so many issues to address. i have a his...       139   \n",
       " 553    553  my toddler defies everything i say and doesn't...       177   \n",
       " \n",
       "      avg_empathy_score  avg_appropriateness_score  avg_relevance_score emp_bin  \n",
       " 30                3.75                       4.00                 5.00       1  \n",
       " 553               3.25                       4.75                 3.75       0  ,\n",
       "       index                                               text  text_len  \\\n",
       " 1113   1113  my fiance and i have been together for 3 years...       401   \n",
       " 552     552  my toddler defies everything i say and doesn't...       484   \n",
       " \n",
       "       avg_empathy_score  avg_appropriateness_score  avg_relevance_score  \\\n",
       " 1113                4.0                        4.5                 4.75   \n",
       " 552                 4.0                        5.0                 4.75   \n",
       " \n",
       "      emp_bin  \n",
       " 1113       2  \n",
       " 552        2  ,\n",
       "       index                                               text  text_len  \\\n",
       " 1467   1467  i'm always listening to my husband, but it fee...       234   \n",
       " 606     606  i'm being verbally abused on a daily basis by ...       306   \n",
       " \n",
       "       avg_empathy_score  avg_appropriateness_score  avg_relevance_score  \\\n",
       " 1467               4.25                       4.75                 4.75   \n",
       " 606                4.75                       5.00                 4.75   \n",
       " \n",
       "      emp_bin  \n",
       " 1467       2  \n",
       " 606        2  )"
      ]
     },
     "execution_count": 19,
     "metadata": {},
     "output_type": "execute_result"
    }
   ],
   "source": [
    "from sklearn.model_selection import train_test_split\n",
    "SEED = 42\n",
    "\n",
    "if BIN_COL:\n",
    "    train, tv = train_test_split(cleaned, test_size=0.2, random_state=SEED,\n",
    "                                 stratify=cleaned[BIN_COL])\n",
    "    val, test = train_test_split(tv, test_size=0.5, random_state=SEED,\n",
    "                                 stratify=tv[BIN_COL])\n",
    "else:\n",
    "    train, tv = train_test_split(cleaned, test_size=0.2, random_state=SEED)\n",
    "    val, test = train_test_split(tv, test_size=0.5, random_state=SEED)\n",
    "\n",
    "print(\"sizes:\", len(train), len(val), len(test))\n",
    "\n",
    "os.makedirs(OUTPUT_DIR, exist_ok=True)\n",
    "train.to_csv(os.path.join(OUTPUT_DIR, \"train.csv\"), index=False)\n",
    "val.to_csv(os.path.join(OUTPUT_DIR, \"val.csv\"), index=False)\n",
    "test.to_csv(os.path.join(OUTPUT_DIR, \"test.csv\"), index=False)\n",
    "\n",
    "\n",
    "def summarize_metadata(df: pd.DataFrame, text_col: str, rating_cols: list) -> pd.DataFrame:\n",
    "    summary = {\n",
    "        \"num_rows\": [len(df)],\n",
    "        \"num_unique_text\": [df[text_col].nunique()],\n",
    "        \"avg_len_chars\": [df[text_col].str.len().mean()],\n",
    "        \"avg_len_words\": [df[text_col].str.split().apply(len).mean()],\n",
    "        \"num_missing_text\": [df[text_col].isna().sum()],\n",
    "    }\n",
    "    for rc in rating_cols:\n",
    "        if rc in df.columns:\n",
    "            summary[f\"missing_{rc}\"] = df[rc].isna().sum()\n",
    "            if pd.api.types.is_numeric_dtype(df[rc]):\n",
    "                summary[f\"{rc}_mean\"] = df[rc].astype(float).mean()\n",
    "    return pd.DataFrame(summary)\n",
    "\n",
    "meta = summarize_metadata(cleaned, \"text\", RATING_COLS)\n",
    "os.makedirs(\"data\", exist_ok=True)\n",
    "meta.to_csv(\"data/metadata_summary.csv\", index=False)\n",
    "\n",
    "train.head(2), val.head(2), test.head(2)\n"
   ]
  },
  {
   "cell_type": "code",
   "execution_count": 20,
   "id": "01187a62-858b-4781-9fe0-bc9446c44823",
   "metadata": {},
   "outputs": [
    {
     "data": {
      "image/png": "[encoded data removed]",
      "text/plain": [
       "<Figure size 640x480 with 1 Axes>"
      ]
     },
     "metadata": {},
     "output_type": "display_data"
    },
    {
     "data": {
      "image/png": "[encoded data removed]",
      "text/plain": [
       "<Figure size 640x480 with 1 Axes>"
      ]
     },
     "metadata": {},
     "output_type": "display_data"
    },
    {
     "data": {
      "image/png": "[encoded data removed]",
      "text/plain": [
       "<Figure size 640x480 with 1 Axes>"
      ]
     },
     "metadata": {},
     "output_type": "display_data"
    }
   ],
   "source": [
    "import matplotlib.pyplot as plt\n",
    "\n",
    "for split_name, split_df in [(\"train\", train), (\"val\", val), (\"test\", test)]:\n",
    "    if \"text_len\" not in split_df.columns:\n",
    "        split_df[\"text_len\"] = split_df[\"text\"].astype(str).str.split().apply(len)\n",
    "    ax = split_df[\"text_len\"].hist(bins=40)\n",
    "    plt.title(f\"Token count distribution ({split_name})\")\n",
    "    plt.xlabel(\"num tokens\"); plt.ylabel(\"freq\")\n",
    "    plt.show()\n"
   ]
  }
 ],
 "metadata": {
  "kernelspec": {
   "display_name": "Python 3 (ipykernel)",
   "language": "python",
   "name": "python3"
  },
  "language_info": {
   "codemirror_mode": {
    "name": "ipython",
    "version": 3
   },
   "file_extension": ".py",
   "mimetype": "text/x-python",
   "name": "python",
   "nbconvert_exporter": "python",
   "pygments_lexer": "ipython3",
   "version": "3.11.7"
  }
 },
 "nbformat": 4,
 "nbformat_minor": 5
}
